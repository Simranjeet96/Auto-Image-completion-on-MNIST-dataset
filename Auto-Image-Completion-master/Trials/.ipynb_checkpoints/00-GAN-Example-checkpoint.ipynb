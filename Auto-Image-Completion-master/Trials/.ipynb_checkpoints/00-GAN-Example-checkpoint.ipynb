{
 "cells": [
  {
   "cell_type": "markdown",
   "metadata": {},
   "source": [
    "# GAN"
   ]
  },
  {
   "cell_type": "code",
   "execution_count": 1,
   "metadata": {
    "collapsed": true
   },
   "outputs": [],
   "source": [
    "import tensorflow as tf\n",
    "import numpy as np\n",
    "import matplotlib.pyplot as plt\n",
    "%matplotlib inline"
   ]
  },
  {
   "cell_type": "markdown",
   "metadata": {},
   "source": [
    "## The Data"
   ]
  },
  {
   "cell_type": "code",
   "execution_count": 2,
   "metadata": {},
   "outputs": [
    {
     "name": "stdout",
     "output_type": "stream",
     "text": [
      "Extracting ../MNIST_data/train-images-idx3-ubyte.gz\n",
      "Extracting ../MNIST_data/train-labels-idx1-ubyte.gz\n",
      "Extracting ../MNIST_data/t10k-images-idx3-ubyte.gz\n",
      "Extracting ../MNIST_data/t10k-labels-idx1-ubyte.gz\n"
     ]
    }
   ],
   "source": [
    "from tensorflow.examples.tutorials.mnist import input_data\n",
    "mnist = input_data.read_data_sets(\"../MNIST_data/\",one_hot=True)"
   ]
  },
  {
   "cell_type": "code",
   "execution_count": 3,
   "metadata": {},
   "outputs": [
    {
     "data": {
      "text/plain": [
       "<matplotlib.image.AxesImage at 0x1b599ea1f28>"
      ]
     },
     "execution_count": 3,
     "metadata": {},
     "output_type": "execute_result"
    },
    {
     "data": {
      "image/png": "[encoded data removed]",
      "text/plain": [
       "<matplotlib.figure.Figure at 0x1b599e170b8>"
      ]
     },
     "metadata": {},
     "output_type": "display_data"
    }
   ],
   "source": [
    "plt.imshow(mnist.train.images[14].reshape(28,28),cmap='Greys')"
   ]
  },
  {
   "cell_type": "markdown",
   "metadata": {},
   "source": [
    "## The Generator"
   ]
  },
  {
   "cell_type": "code",
   "execution_count": 4,
   "metadata": {
    "collapsed": true
   },
   "outputs": [],
   "source": [
    "def generator(z,reuse=None):\n",
    "    with tf.variable_scope('gen',reuse=reuse):\n",
    "        hidden1 = tf.layers.dense(inputs=z,units=128)\n",
    "        # Leaky Relu\n",
    "        alpha = 0.01\n",
    "        hidden1 = tf.maximum(alpha*hidden1,hidden1)\n",
    "        hidden2 = tf.layers.dense(inputs=hidden1,units=128)\n",
    "        \n",
    "        hidden2 = tf.maximum(alpha*hidden2,hidden2)\n",
    "        output = tf.layers.dense(hidden2,units=784,activation=tf.nn.tanh)\n",
    "        return output\n",
    "    "
   ]
  },
  {
   "cell_type": "markdown",
   "metadata": {},
   "source": [
    "## The Discriminator"
   ]
  },
  {
   "cell_type": "code",
   "execution_count": 5,
   "metadata": {
    "collapsed": true
   },
   "outputs": [],
   "source": [
    "def discriminator(X,reuse=None):\n",
    "    with tf.variable_scope('dis',reuse=reuse):\n",
    "        hidden1 = tf.layers.dense(inputs=X,units=128)\n",
    "        # Leaky Relu\n",
    "        alpha = 0.01\n",
    "        hidden1 = tf.maximum(alpha*hidden1,hidden1)\n",
    "        \n",
    "        hidden2 = tf.layers.dense(inputs=hidden1,units=128)\n",
    "        hidden2 = tf.maximum(alpha*hidden2,hidden2)\n",
    "        \n",
    "        logits = tf.layers.dense(hidden2,units=1)\n",
    "        output = tf.sigmoid(logits)\n",
    "    \n",
    "        return output, logits"
   ]
  },
  {
   "cell_type": "markdown",
   "metadata": {},
   "source": [
    "### Placeholders"
   ]
  },
  {
   "cell_type": "code",
   "execution_count": 6,
   "metadata": {
    "collapsed": true
   },
   "outputs": [],
   "source": [
    "real_images = tf.placeholder(tf.float32,shape=[None,784])\n",
    "z = tf.placeholder(tf.float32,shape=[None,100])"
   ]
  },
  {
   "cell_type": "markdown",
   "metadata": {},
   "source": [
    "### Generator"
   ]
  },
  {
   "cell_type": "code",
   "execution_count": 7,
   "metadata": {
    "collapsed": true
   },
   "outputs": [],
   "source": [
    "G = generator(z)"
   ]
  },
  {
   "cell_type": "markdown",
   "metadata": {},
   "source": [
    "### Discriminator "
   ]
  },
  {
   "cell_type": "code",
   "execution_count": 8,
   "metadata": {
    "collapsed": true
   },
   "outputs": [],
   "source": [
    "D_output_real , D_logits_real = discriminator(real_images)"
   ]
  },
  {
   "cell_type": "code",
   "execution_count": 9,
   "metadata": {
    "collapsed": true
   },
   "outputs": [],
   "source": [
    "D_output_fake, D_logits_fake = discriminator(G,reuse=True)"
   ]
  },
  {
   "cell_type": "markdown",
   "metadata": {},
   "source": [
    "### Losses"
   ]
  },
  {
   "cell_type": "code",
   "execution_count": 10,
   "metadata": {
    "collapsed": true
   },
   "outputs": [],
   "source": [
    "def loss_func(logits_in,labels_in):\n",
    "    return tf.reduce_mean(tf.nn.sigmoid_cross_entropy_with_logits(logits=logits_in,labels=labels_in))"
   ]
  },
  {
   "cell_type": "code",
   "execution_count": 11,
   "metadata": {
    "collapsed": true
   },
   "outputs": [],
   "source": [
    "D_real_loss = loss_func(D_logits_real,tf.ones_like(D_logits_real)* (0.99))"
   ]
  },
  {
   "cell_type": "code",
   "execution_count": 12,
   "metadata": {
    "collapsed": true
   },
   "outputs": [],
   "source": [
    "D_fake_loss = loss_func(D_logits_fake,tf.zeros_like(D_logits_real))"
   ]
  },
  {
   "cell_type": "code",
   "execution_count": 13,
   "metadata": {
    "collapsed": true
   },
   "outputs": [],
   "source": [
    "D_loss = D_real_loss + D_fake_loss"
   ]
  },
  {
   "cell_type": "code",
   "execution_count": 14,
   "metadata": {
    "collapsed": true
   },
   "outputs": [],
   "source": [
    "G_loss = loss_func(D_logits_fake,tf.ones_like(D_logits_fake))"
   ]
  },
  {
   "cell_type": "markdown",
   "metadata": {},
   "source": [
    "### Optimizers"
   ]
  },
  {
   "cell_type": "code",
   "execution_count": 15,
   "metadata": {
    "collapsed": true
   },
   "outputs": [],
   "source": [
    "learning_rate = 0.001"
   ]
  },
  {
   "cell_type": "code",
   "execution_count": 16,
   "metadata": {},
   "outputs": [
    {
     "name": "stdout",
     "output_type": "stream",
     "text": [
      "['dis/dense/kernel:0', 'dis/dense/bias:0', 'dis/dense_1/kernel:0', 'dis/dense_1/bias:0', 'dis/dense_2/kernel:0', 'dis/dense_2/bias:0']\n",
      "['gen/dense/kernel:0', 'gen/dense/bias:0', 'gen/dense_1/kernel:0', 'gen/dense_1/bias:0', 'gen/dense_2/kernel:0', 'gen/dense_2/bias:0']\n"
     ]
    }
   ],
   "source": [
    "tvars = tf.trainable_variables()\n",
    "\n",
    "d_vars = [var for var in tvars if 'dis' in var.name]\n",
    "g_vars = [var for var in tvars if 'gen' in var.name]\n",
    "\n",
    "print([v.name for v in d_vars])\n",
    "print([v.name for v in g_vars])"
   ]
  },
  {
   "cell_type": "code",
   "execution_count": 17,
   "metadata": {
    "collapsed": true
   },
   "outputs": [],
   "source": [
    "D_trainer = tf.train.AdamOptimizer(learning_rate).minimize(D_loss, var_list=d_vars)\n",
    "G_trainer = tf.train.AdamOptimizer(learning_rate).minimize(G_loss, var_list=g_vars)"
   ]
  },
  {
   "cell_type": "markdown",
   "metadata": {},
   "source": [
    "## Completion code here"
   ]
  },
  {
   "cell_type": "code",
   "execution_count": 18,
   "metadata": {
    "collapsed": true
   },
   "outputs": [],
   "source": [
    "img = tf.placeholder(tf.float32, shape=(1, 784))"
   ]
  },
  {
   "cell_type": "code",
   "execution_count": 19,
   "metadata": {
    "collapsed": true
   },
   "outputs": [],
   "source": [
    "mask = np.ones(shape=[28,28], dtype=np.float32)\n",
    "mask[10:18,10:18] = 0\n",
    "mask = mask.reshape(1,784)"
   ]
  },
  {
   "cell_type": "code",
   "execution_count": 20,
   "metadata": {
    "collapsed": true
   },
   "outputs": [],
   "source": [
    "img_to_correct = tf.multiply(tf.reshape(img, shape=(28,28)), tf.convert_to_tensor(tf.reshape(mask, shape=(28,28))))"
   ]
  },
  {
   "cell_type": "code",
   "execution_count": 21,
   "metadata": {
    "collapsed": true
   },
   "outputs": [],
   "source": [
    "z1 = tf.Variable(initial_value = np.random.uniform(-1, 1, size=(1, 100)).astype(\"float32\"), dtype=tf.float32)"
   ]
  },
  {
   "cell_type": "code",
   "execution_count": 22,
   "metadata": {
    "collapsed": true
   },
   "outputs": [],
   "source": [
    "G1 = generator(z1, reuse = True)"
   ]
  },
  {
   "cell_type": "code",
   "execution_count": 23,
   "metadata": {
    "collapsed": true
   },
   "outputs": [],
   "source": [
    "img_gen_masked = tf.multiply(G1, mask)"
   ]
  },
  {
   "cell_type": "code",
   "execution_count": 25,
   "metadata": {},
   "outputs": [],
   "source": [
    "contextual_loss = tf.reduce_mean(tf.abs(img_gen_masked - tf.reshape(img_to_correct,shape=(1,784))))"
   ]
  },
  {
   "cell_type": "code",
   "execution_count": 26,
   "metadata": {
    "collapsed": true
   },
   "outputs": [],
   "source": [
    "perceptual_loss = G_loss"
   ]
  },
  {
   "cell_type": "code",
   "execution_count": 27,
   "metadata": {
    "collapsed": true
   },
   "outputs": [],
   "source": [
    "complete_loss = contextual_loss + 0.66*perceptual_loss"
   ]
  },
  {
   "cell_type": "code",
   "execution_count": 28,
   "metadata": {
    "collapsed": true
   },
   "outputs": [],
   "source": [
    "complete_loss_trainer = tf.train.AdamOptimizer(learning_rate).minimize(complete_loss, var_list=z1)"
   ]
  },
  {
   "cell_type": "markdown",
   "metadata": {},
   "source": [
    "## Training Session"
   ]
  },
  {
   "cell_type": "code",
   "execution_count": 48,
   "metadata": {
    "collapsed": true
   },
   "outputs": [],
   "source": [
    "batch_size = 100\n",
    "epochs = 100\n",
    "init = tf.global_variables_initializer()"
   ]
  },
  {
   "cell_type": "code",
   "execution_count": 49,
   "metadata": {
    "collapsed": true
   },
   "outputs": [],
   "source": [
    "# Save a sample per epoch\n",
    "samples = []\n",
    "ans_z = []"
   ]
  },
  {
   "cell_type": "code",
   "execution_count": 50,
   "metadata": {
    "collapsed": true
   },
   "outputs": [],
   "source": [
    "saver = tf.train.Saver()"
   ]
  },
  {
   "cell_type": "code",
   "execution_count": 51,
   "metadata": {},
   "outputs": [
    {
     "name": "stdout",
     "output_type": "stream",
     "text": [
      "Currently on Epoch 1 of 100 total...\n",
      "Currently on Epoch 2 of 100 total...\n",
      "Currently on Epoch 3 of 100 total...\n",
      "Currently on Epoch 4 of 100 total...\n",
      "Currently on Epoch 5 of 100 total...\n",
      "Currently on Epoch 6 of 100 total...\n",
      "Currently on Epoch 7 of 100 total...\n",
      "Currently on Epoch 8 of 100 total...\n",
      "Currently on Epoch 9 of 100 total...\n",
      "Currently on Epoch 10 of 100 total...\n",
      "Currently on Epoch 11 of 100 total...\n",
      "Currently on Epoch 12 of 100 total...\n",
      "Currently on Epoch 13 of 100 total...\n",
      "Currently on Epoch 14 of 100 total...\n",
      "Currently on Epoch 15 of 100 total...\n",
      "Currently on Epoch 16 of 100 total...\n",
      "Currently on Epoch 17 of 100 total...\n",
      "Currently on Epoch 18 of 100 total...\n",
      "Currently on Epoch 19 of 100 total...\n",
      "Currently on Epoch 20 of 100 total...\n",
      "Currently on Epoch 21 of 100 total...\n",
      "Currently on Epoch 22 of 100 total...\n",
      "Currently on Epoch 23 of 100 total...\n",
      "Currently on Epoch 24 of 100 total...\n",
      "Currently on Epoch 25 of 100 total...\n",
      "Currently on Epoch 26 of 100 total...\n",
      "Currently on Epoch 27 of 100 total...\n",
      "Currently on Epoch 28 of 100 total...\n",
      "Currently on Epoch 29 of 100 total...\n",
      "Currently on Epoch 30 of 100 total...\n",
      "Currently on Epoch 31 of 100 total...\n",
      "Currently on Epoch 32 of 100 total...\n",
      "Currently on Epoch 33 of 100 total...\n",
      "Currently on Epoch 34 of 100 total...\n",
      "Currently on Epoch 35 of 100 total...\n",
      "Currently on Epoch 36 of 100 total...\n",
      "Currently on Epoch 37 of 100 total...\n",
      "Currently on Epoch 38 of 100 total...\n",
      "Currently on Epoch 39 of 100 total...\n",
      "Currently on Epoch 40 of 100 total...\n",
      "Currently on Epoch 41 of 100 total...\n",
      "Currently on Epoch 42 of 100 total...\n",
      "Currently on Epoch 43 of 100 total...\n",
      "Currently on Epoch 44 of 100 total...\n",
      "Currently on Epoch 45 of 100 total...\n",
      "Currently on Epoch 46 of 100 total...\n",
      "Currently on Epoch 47 of 100 total...\n",
      "Currently on Epoch 48 of 100 total...\n",
      "Currently on Epoch 49 of 100 total...\n",
      "Currently on Epoch 50 of 100 total...\n",
      "Currently on Epoch 51 of 100 total...\n",
      "Currently on Epoch 52 of 100 total...\n",
      "Currently on Epoch 53 of 100 total...\n",
      "Currently on Epoch 54 of 100 total...\n",
      "Currently on Epoch 55 of 100 total...\n",
      "Currently on Epoch 56 of 100 total...\n",
      "Currently on Epoch 57 of 100 total...\n",
      "Currently on Epoch 58 of 100 total...\n",
      "Currently on Epoch 59 of 100 total...\n",
      "Currently on Epoch 60 of 100 total...\n",
      "Currently on Epoch 61 of 100 total...\n",
      "Currently on Epoch 62 of 100 total...\n",
      "Currently on Epoch 63 of 100 total...\n",
      "Currently on Epoch 64 of 100 total...\n",
      "Currently on Epoch 65 of 100 total...\n",
      "Currently on Epoch 66 of 100 total...\n",
      "Currently on Epoch 67 of 100 total...\n",
      "Currently on Epoch 68 of 100 total...\n",
      "Currently on Epoch 69 of 100 total...\n",
      "Currently on Epoch 70 of 100 total...\n",
      "Currently on Epoch 71 of 100 total...\n",
      "Currently on Epoch 72 of 100 total...\n",
      "Currently on Epoch 73 of 100 total...\n",
      "Currently on Epoch 74 of 100 total...\n",
      "Currently on Epoch 75 of 100 total...\n",
      "Currently on Epoch 76 of 100 total...\n",
      "Currently on Epoch 77 of 100 total...\n",
      "Currently on Epoch 78 of 100 total...\n",
      "Currently on Epoch 79 of 100 total...\n",
      "Currently on Epoch 80 of 100 total...\n",
      "Currently on Epoch 81 of 100 total...\n",
      "Currently on Epoch 82 of 100 total...\n",
      "Currently on Epoch 83 of 100 total...\n",
      "Currently on Epoch 84 of 100 total...\n",
      "Currently on Epoch 85 of 100 total...\n",
      "Currently on Epoch 86 of 100 total...\n",
      "Currently on Epoch 87 of 100 total...\n",
      "Currently on Epoch 88 of 100 total...\n",
      "Currently on Epoch 89 of 100 total...\n",
      "Currently on Epoch 90 of 100 total...\n",
      "Currently on Epoch 91 of 100 total...\n",
      "Currently on Epoch 92 of 100 total...\n",
      "Currently on Epoch 93 of 100 total...\n",
      "Currently on Epoch 94 of 100 total...\n",
      "Currently on Epoch 95 of 100 total...\n",
      "Currently on Epoch 96 of 100 total...\n",
      "Currently on Epoch 97 of 100 total...\n",
      "Currently on Epoch 98 of 100 total...\n",
      "Currently on Epoch 99 of 100 total...\n",
      "Currently on Epoch 100 of 100 total...\n"
     ]
    }
   ],
   "source": [
    "with tf.Session() as sess:\n",
    "    \n",
    "    sess.run(init)\n",
    "\n",
    "    # Recall an epoch is an entire run through the training data\n",
    "    for e in range(epochs):\n",
    "        # // indicates classic division\n",
    "        num_batches = mnist.train.num_examples // batch_size\n",
    "        \n",
    "        for i in range(num_batches):\n",
    "            \n",
    "            # Grab batch of images\n",
    "            batch = mnist.train.next_batch(batch_size)\n",
    "            \n",
    "            # Get images, reshape and rescale to pass to D\n",
    "            batch_images = batch[0].reshape((batch_size, 784))\n",
    "            batch_images = batch_images*2 - 1\n",
    "            \n",
    "            # Z (random latent noise data for Generator)\n",
    "            # -1 to 1 because of tanh activation\n",
    "            batch_z = np.random.uniform(-1, 1, size=(batch_size, 100))\n",
    "            \n",
    "            # Run optimizers, no need to save outputs, we won't use them\n",
    "            _ = sess.run(D_trainer, feed_dict={real_images: batch_images, z: batch_z})\n",
    "            _ = sess.run(G_trainer, feed_dict={z: batch_z})\n",
    "        \n",
    "            \n",
    "        print(\"Currently on Epoch {} of {} total...\".format(e+1, epochs))\n",
    "        \n",
    "    saver.save(sess, '../models/100_epoch_model.ckpt')"
   ]
  },
  {
   "cell_type": "code",
   "execution_count": 55,
   "metadata": {},
   "outputs": [
    {
     "name": "stdout",
     "output_type": "stream",
     "text": [
      "INFO:tensorflow:Restoring parameters from ../models/100_epoch_model.ckpt\n",
      "Currently on Epoch 1 of 100 total...\n",
      "Currently on Epoch 2 of 100 total...\n",
      "Currently on Epoch 3 of 100 total...\n",
      "Currently on Epoch 4 of 100 total...\n",
      "Currently on Epoch 5 of 100 total...\n",
      "Currently on Epoch 6 of 100 total...\n",
      "Currently on Epoch 7 of 100 total...\n",
      "Currently on Epoch 8 of 100 total...\n",
      "Currently on Epoch 9 of 100 total...\n",
      "Currently on Epoch 10 of 100 total...\n",
      "Currently on Epoch 11 of 100 total...\n",
      "Currently on Epoch 12 of 100 total...\n",
      "Currently on Epoch 13 of 100 total...\n",
      "Currently on Epoch 14 of 100 total...\n",
      "Currently on Epoch 15 of 100 total...\n",
      "Currently on Epoch 16 of 100 total...\n",
      "Currently on Epoch 17 of 100 total...\n",
      "Currently on Epoch 18 of 100 total...\n",
      "Currently on Epoch 19 of 100 total...\n",
      "Currently on Epoch 20 of 100 total...\n",
      "Currently on Epoch 21 of 100 total...\n",
      "Currently on Epoch 22 of 100 total...\n",
      "Currently on Epoch 23 of 100 total...\n",
      "Currently on Epoch 24 of 100 total...\n",
      "Currently on Epoch 25 of 100 total...\n",
      "Currently on Epoch 26 of 100 total...\n",
      "Currently on Epoch 27 of 100 total...\n",
      "Currently on Epoch 28 of 100 total...\n",
      "Currently on Epoch 29 of 100 total...\n",
      "Currently on Epoch 30 of 100 total...\n",
      "Currently on Epoch 31 of 100 total...\n",
      "Currently on Epoch 32 of 100 total...\n",
      "Currently on Epoch 33 of 100 total...\n",
      "Currently on Epoch 34 of 100 total...\n",
      "Currently on Epoch 35 of 100 total...\n",
      "Currently on Epoch 36 of 100 total...\n",
      "Currently on Epoch 37 of 100 total...\n",
      "Currently on Epoch 38 of 100 total...\n",
      "Currently on Epoch 39 of 100 total...\n",
      "Currently on Epoch 40 of 100 total...\n",
      "Currently on Epoch 41 of 100 total...\n",
      "Currently on Epoch 42 of 100 total...\n",
      "Currently on Epoch 43 of 100 total...\n",
      "Currently on Epoch 44 of 100 total...\n",
      "Currently on Epoch 45 of 100 total...\n",
      "Currently on Epoch 46 of 100 total...\n",
      "Currently on Epoch 47 of 100 total...\n",
      "Currently on Epoch 48 of 100 total...\n",
      "Currently on Epoch 49 of 100 total...\n",
      "Currently on Epoch 50 of 100 total...\n",
      "Currently on Epoch 51 of 100 total...\n",
      "Currently on Epoch 52 of 100 total...\n",
      "Currently on Epoch 53 of 100 total...\n",
      "Currently on Epoch 54 of 100 total...\n",
      "Currently on Epoch 55 of 100 total...\n",
      "Currently on Epoch 56 of 100 total...\n",
      "Currently on Epoch 57 of 100 total...\n",
      "Currently on Epoch 58 of 100 total...\n",
      "Currently on Epoch 59 of 100 total...\n",
      "Currently on Epoch 60 of 100 total...\n",
      "Currently on Epoch 61 of 100 total...\n",
      "Currently on Epoch 62 of 100 total...\n",
      "Currently on Epoch 63 of 100 total...\n",
      "Currently on Epoch 64 of 100 total...\n",
      "Currently on Epoch 65 of 100 total...\n",
      "Currently on Epoch 66 of 100 total...\n",
      "Currently on Epoch 67 of 100 total...\n",
      "Currently on Epoch 68 of 100 total...\n",
      "Currently on Epoch 69 of 100 total...\n",
      "Currently on Epoch 70 of 100 total...\n",
      "Currently on Epoch 71 of 100 total...\n",
      "Currently on Epoch 72 of 100 total...\n",
      "Currently on Epoch 73 of 100 total...\n",
      "Currently on Epoch 74 of 100 total...\n",
      "Currently on Epoch 75 of 100 total...\n",
      "Currently on Epoch 76 of 100 total...\n",
      "Currently on Epoch 77 of 100 total...\n",
      "Currently on Epoch 78 of 100 total...\n",
      "Currently on Epoch 79 of 100 total...\n",
      "Currently on Epoch 80 of 100 total...\n",
      "Currently on Epoch 81 of 100 total...\n",
      "Currently on Epoch 82 of 100 total...\n",
      "Currently on Epoch 83 of 100 total...\n",
      "Currently on Epoch 84 of 100 total...\n",
      "Currently on Epoch 85 of 100 total...\n",
      "Currently on Epoch 86 of 100 total...\n",
      "Currently on Epoch 87 of 100 total...\n",
      "Currently on Epoch 88 of 100 total...\n",
      "Currently on Epoch 89 of 100 total...\n",
      "Currently on Epoch 90 of 100 total...\n",
      "Currently on Epoch 91 of 100 total...\n",
      "Currently on Epoch 92 of 100 total...\n",
      "Currently on Epoch 93 of 100 total...\n",
      "Currently on Epoch 94 of 100 total...\n",
      "Currently on Epoch 95 of 100 total...\n",
      "Currently on Epoch 96 of 100 total...\n",
      "Currently on Epoch 97 of 100 total...\n",
      "Currently on Epoch 98 of 100 total...\n",
      "Currently on Epoch 99 of 100 total...\n",
      "Currently on Epoch 100 of 100 total...\n"
     ]
    }
   ],
   "source": [
    "with tf.Session() as sess:\n",
    "    saver.restore(sess,'../models/100_epoch_model.ckpt')\n",
    "    # Recall an epoch is an entire run through the training data\n",
    "    for e in range(epochs):\n",
    "        # // indicates classic division\n",
    "        num_batches = mnist.train.num_examples // batch_size\n",
    "        \n",
    "        for i in range(num_batches):\n",
    "            \n",
    "            # Grab batch of images\n",
    "            batch = mnist.train.next_batch(batch_size)\n",
    "            \n",
    "            # Get images, reshape and rescale to pass to D\n",
    "            batch_images = batch[0].reshape((batch_size, 784))\n",
    "            batch_images = batch_images*2 - 1\n",
    "            \n",
    "            # Z (random latent noise data for Generator)\n",
    "            # -1 to 1 because of tanh activation\n",
    "            batch_z = np.random.uniform(-1, 1, size=(batch_size, 100))\n",
    "            \n",
    "            # Run optimizers, no need to save outputs, we won't use them\n",
    "            _ = sess.run(D_trainer, feed_dict={real_images: batch_images, z: batch_z})\n",
    "            _ = sess.run(G_trainer, feed_dict={z: batch_z})\n",
    "        \n",
    "            \n",
    "        print(\"Currently on Epoch {} of {} total...\".format(e+1, epochs))\n",
    "        \n",
    "    saver.save(sess, '../models/100_epoch_model1.ckpt')"
   ]
  },
  {
   "cell_type": "code",
   "execution_count": 53,
   "metadata": {},
   "outputs": [
    {
     "name": "stdout",
     "output_type": "stream",
     "text": [
      "INFO:tensorflow:Restoring parameters from ../models/100_epoch_model.ckpt\n"
     ]
    }
   ],
   "source": [
    "with tf.Session() as sess:\n",
    "    saver.restore(sess,'../models/100_epoch_model.ckpt')\n",
    "    for i in range(1000):\n",
    "        _ = sess.run(complete_loss_trainer, feed_dict = {img: mnist.train.images[14].reshape(1, 784)})\n",
    "        \n",
    "    ansz = sess.run(z1)\n",
    "    gen_ans = sess.run(generator(z ,reuse=True),feed_dict={z: ansz})"
   ]
  },
  {
   "cell_type": "code",
   "execution_count": 54,
   "metadata": {},
   "outputs": [
    {
     "data": {
      "text/plain": [
       "<matplotlib.image.AxesImage at 0x1b5a45434a8>"
      ]
     },
     "execution_count": 54,
     "metadata": {},
     "output_type": "execute_result"
    },
    {
     "data": {
      "image/png": "[encoded data removed]",
      "text/plain": [
       "<matplotlib.figure.Figure at 0x1b59a263160>"
      ]
     },
     "metadata": {},
     "output_type": "display_data"
    }
   ],
   "source": [
    "plt.imshow(gen_ans.reshape(28,28),cmap='Greys')"
   ]
  },
  {
   "cell_type": "code",
   "execution_count": 61,
   "metadata": {},
   "outputs": [
    {
     "name": "stdout",
     "output_type": "stream",
     "text": [
      "INFO:tensorflow:Restoring parameters from ../models/100_epoch_model1.ckpt\n"
     ]
    }
   ],
   "source": [
    "with tf.Session() as sess:\n",
    "    saver.restore(sess,'../models/100_epoch_model1.ckpt')\n",
    "    for i in range(1000):\n",
    "        _ = sess.run(complete_loss_trainer, feed_dict = {img: mnist.train.images[14].reshape(1, 784)})\n",
    "        \n",
    "    ansz = sess.run(z1)\n",
    "    gen_ans = sess.run(generator(z ,reuse=True),feed_dict={z: ansz})"
   ]
  },
  {
   "cell_type": "code",
   "execution_count": 62,
   "metadata": {},
   "outputs": [
    {
     "data": {
      "text/plain": [
       "<matplotlib.image.AxesImage at 0x1b5a0d68ba8>"
      ]
     },
     "execution_count": 62,
     "metadata": {},
     "output_type": "execute_result"
    },
    {
     "data": {
      "image/png": "[encoded data removed]",
      "text/plain": [
       "<matplotlib.figure.Figure at 0x1b5a1121470>"
      ]
     },
     "metadata": {},
     "output_type": "display_data"
    }
   ],
   "source": [
    "plt.imshow(gen_ans.reshape(28,28),cmap='Greys')"
   ]
  },
  {
   "cell_type": "code",
   "execution_count": null,
   "metadata": {
    "collapsed": true
   },
   "outputs": [],
   "source": []
  }
 ],
 "metadata": {
  "kernelspec": {
   "display_name": "Python 3",
   "language": "python",
   "name": "python3"
  },
  "language_info": {
   "codemirror_mode": {
    "name": "ipython",
    "version": 3
   },
   "file_extension": ".py",
   "mimetype": "text/x-python",
   "name": "python",
   "nbconvert_exporter": "python",
   "pygments_lexer": "ipython3",
   "version": "3.6.1"
  }
 },
 "nbformat": 4,
 "nbformat_minor": 2
}
